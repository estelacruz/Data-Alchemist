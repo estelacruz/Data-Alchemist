{
  "nbformat": 4,
  "nbformat_minor": 0,
  "metadata": {
    "colab": {
      "provenance": [],
      "authorship_tag": "ABX9TyPa4P2fEkHIEdIK9TxhVbvs",
      "include_colab_link": true
    },
    "kernelspec": {
      "name": "python3",
      "display_name": "Python 3"
    },
    "language_info": {
      "name": "python"
    }
  },
  "cells": [
    {
      "cell_type": "markdown",
      "metadata": {
        "id": "view-in-github",
        "colab_type": "text"
      },
      "source": [
        "<a href=\"https://colab.research.google.com/github/estelacruz/Data-Alchemist/blob/main/PartFive.ipynb\" target=\"_parent\"><img src=\"https://colab.research.google.com/assets/colab-badge.svg\" alt=\"Open In Colab\"/></a>"
      ]
    },
    {
      "cell_type": "markdown",
      "source": [
        "# ![arts_science_short_color.png](data:image/png;base64,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)"
      ],
      "metadata": {
        "id": "FP8IJO4E9Pdm"
      }
    },
    {
      "cell_type": "markdown",
      "source": [
        "\n",
        "\n",
        "---\n",
        "\n",
        "\n",
        "\n",
        "**Data Management & Analysis**\n",
        "\n",
        "\n",
        "**Estela Bobadilla-Cruz**\n",
        "\n",
        "\n",
        "---\n",
        "\n",
        "\n",
        "\n",
        "\n",
        "\n",
        "\n",
        "\n",
        "\n"
      ],
      "metadata": {
        "id": "8amgFemH9yhr"
      }
    },
    {
      "cell_type": "code",
      "execution_count": null,
      "metadata": {
        "colab": {
          "base_uri": "https://localhost:8080/"
        },
        "id": "ZxwjW24svj1J",
        "outputId": "a8900b7d-491b-4908-b9e3-5fd203c7a506"
      },
      "outputs": [
        {
          "output_type": "stream",
          "name": "stdout",
          "text": [
            "Looking in indexes: https://pypi.org/simple, https://us-python.pkg.dev/colab-wheels/public/simple/\n",
            "Collecting pandasql\n",
            "  Downloading pandasql-0.7.3.tar.gz (26 kB)\n",
            "Requirement already satisfied: numpy in /usr/local/lib/python3.8/dist-packages (from pandasql) (1.21.6)\n",
            "Requirement already satisfied: pandas in /usr/local/lib/python3.8/dist-packages (from pandasql) (1.3.5)\n",
            "Requirement already satisfied: sqlalchemy in /usr/local/lib/python3.8/dist-packages (from pandasql) (1.4.44)\n",
            "Requirement already satisfied: pytz>=2017.3 in /usr/local/lib/python3.8/dist-packages (from pandas->pandasql) (2022.6)\n",
            "Requirement already satisfied: python-dateutil>=2.7.3 in /usr/local/lib/python3.8/dist-packages (from pandas->pandasql) (2.8.2)\n",
            "Requirement already satisfied: six>=1.5 in /usr/local/lib/python3.8/dist-packages (from python-dateutil>=2.7.3->pandas->pandasql) (1.15.0)\n",
            "Requirement already satisfied: greenlet!=0.4.17 in /usr/local/lib/python3.8/dist-packages (from sqlalchemy->pandasql) (2.0.1)\n",
            "Building wheels for collected packages: pandasql\n",
            "  Building wheel for pandasql (setup.py) ... \u001b[?25l\u001b[?25hdone\n",
            "  Created wheel for pandasql: filename=pandasql-0.7.3-py3-none-any.whl size=26787 sha256=17d8b529504b7c5649649e8391acf66caac79d3f3d165d0f9f4bd103bc5cf0d0\n",
            "  Stored in directory: /root/.cache/pip/wheels/ed/8f/46/a383923333728744f01ba24adbd8e364f2cb9470a8b8e5b9ff\n",
            "Successfully built pandasql\n",
            "Installing collected packages: pandasql\n",
            "Successfully installed pandasql-0.7.3\n"
          ]
        }
      ],
      "source": [
        "#pandas sql\n",
        "!pip install pandasql\n"
      ]
    },
    {
      "cell_type": "markdown",
      "source": [
        "**Task 1:** Use that data to create a set of related tables in SQLite. \n",
        "\n",
        "The main table computer_scientists should contain id, last, first, birth, death. \n",
        "\n",
        "There should also be tables for contribs and awards. \n",
        "\n",
        "The computer_scientists table should be linked to the other two tables via one-to-many relationships, each of which should be represented in another table, for a total of five tables. \n",
        "\n",
        "Enforce foreign key constraints by adding them to your “CREATE TABLE” statements. What is the average number of awards per scientist?"
      ],
      "metadata": {
        "id": "Efv19uZv3xKL"
      }
    },
    {
      "cell_type": "code",
      "source": [
        "import json\n",
        "import pymongo\n",
        "import pprint\n",
        "from google.colab import files #download cleaned up version of bios.json file, will include in HW Submission\n",
        "uploaded = files.upload()"
      ],
      "metadata": {
        "colab": {
          "base_uri": "https://localhost:8080/",
          "height": 74
        },
        "id": "VyJMVKN4CtjN",
        "outputId": "f395ec95-d2f0-417e-ff40-ea4ce43ca9be"
      },
      "execution_count": null,
      "outputs": [
        {
          "output_type": "display_data",
          "data": {
            "text/plain": [
              "<IPython.core.display.HTML object>"
            ],
            "text/html": [
              "\n",
              "     <input type=\"file\" id=\"files-3e8c46f0-0a95-4b88-a74d-83780c62c7b3\" name=\"files[]\" multiple disabled\n",
              "        style=\"border:none\" />\n",
              "     <output id=\"result-3e8c46f0-0a95-4b88-a74d-83780c62c7b3\">\n",
              "      Upload widget is only available when the cell has been executed in the\n",
              "      current browser session. Please rerun this cell to enable.\n",
              "      </output>\n",
              "      <script>// Copyright 2017 Google LLC\n",
              "//\n",
              "// Licensed under the Apache License, Version 2.0 (the \"License\");\n",
              "// you may not use this file except in compliance with the License.\n",
              "// You may obtain a copy of the License at\n",
              "//\n",
              "//      http://www.apache.org/licenses/LICENSE-2.0\n",
              "//\n",
              "// Unless required by applicable law or agreed to in writing, software\n",
              "// distributed under the License is distributed on an \"AS IS\" BASIS,\n",
              "// WITHOUT WARRANTIES OR CONDITIONS OF ANY KIND, either express or implied.\n",
              "// See the License for the specific language governing permissions and\n",
              "// limitations under the License.\n",
              "\n",
              "/**\n",
              " * @fileoverview Helpers for google.colab Python module.\n",
              " */\n",
              "(function(scope) {\n",
              "function span(text, styleAttributes = {}) {\n",
              "  const element = document.createElement('span');\n",
              "  element.textContent = text;\n",
              "  for (const key of Object.keys(styleAttributes)) {\n",
              "    element.style[key] = styleAttributes[key];\n",
              "  }\n",
              "  return element;\n",
              "}\n",
              "\n",
              "// Max number of bytes which will be uploaded at a time.\n",
              "const MAX_PAYLOAD_SIZE = 100 * 1024;\n",
              "\n",
              "function _uploadFiles(inputId, outputId) {\n",
              "  const steps = uploadFilesStep(inputId, outputId);\n",
              "  const outputElement = document.getElementById(outputId);\n",
              "  // Cache steps on the outputElement to make it available for the next call\n",
              "  // to uploadFilesContinue from Python.\n",
              "  outputElement.steps = steps;\n",
              "\n",
              "  return _uploadFilesContinue(outputId);\n",
              "}\n",
              "\n",
              "// This is roughly an async generator (not supported in the browser yet),\n",
              "// where there are multiple asynchronous steps and the Python side is going\n",
              "// to poll for completion of each step.\n",
              "// This uses a Promise to block the python side on completion of each step,\n",
              "// then passes the result of the previous step as the input to the next step.\n",
              "function _uploadFilesContinue(outputId) {\n",
              "  const outputElement = document.getElementById(outputId);\n",
              "  const steps = outputElement.steps;\n",
              "\n",
              "  const next = steps.next(outputElement.lastPromiseValue);\n",
              "  return Promise.resolve(next.value.promise).then((value) => {\n",
              "    // Cache the last promise value to make it available to the next\n",
              "    // step of the generator.\n",
              "    outputElement.lastPromiseValue = value;\n",
              "    return next.value.response;\n",
              "  });\n",
              "}\n",
              "\n",
              "/**\n",
              " * Generator function which is called between each async step of the upload\n",
              " * process.\n",
              " * @param {string} inputId Element ID of the input file picker element.\n",
              " * @param {string} outputId Element ID of the output display.\n",
              " * @return {!Iterable<!Object>} Iterable of next steps.\n",
              " */\n",
              "function* uploadFilesStep(inputId, outputId) {\n",
              "  const inputElement = document.getElementById(inputId);\n",
              "  inputElement.disabled = false;\n",
              "\n",
              "  const outputElement = document.getElementById(outputId);\n",
              "  outputElement.innerHTML = '';\n",
              "\n",
              "  const pickedPromise = new Promise((resolve) => {\n",
              "    inputElement.addEventListener('change', (e) => {\n",
              "      resolve(e.target.files);\n",
              "    });\n",
              "  });\n",
              "\n",
              "  const cancel = document.createElement('button');\n",
              "  inputElement.parentElement.appendChild(cancel);\n",
              "  cancel.textContent = 'Cancel upload';\n",
              "  const cancelPromise = new Promise((resolve) => {\n",
              "    cancel.onclick = () => {\n",
              "      resolve(null);\n",
              "    };\n",
              "  });\n",
              "\n",
              "  // Wait for the user to pick the files.\n",
              "  const files = yield {\n",
              "    promise: Promise.race([pickedPromise, cancelPromise]),\n",
              "    response: {\n",
              "      action: 'starting',\n",
              "    }\n",
              "  };\n",
              "\n",
              "  cancel.remove();\n",
              "\n",
              "  // Disable the input element since further picks are not allowed.\n",
              "  inputElement.disabled = true;\n",
              "\n",
              "  if (!files) {\n",
              "    return {\n",
              "      response: {\n",
              "        action: 'complete',\n",
              "      }\n",
              "    };\n",
              "  }\n",
              "\n",
              "  for (const file of files) {\n",
              "    const li = document.createElement('li');\n",
              "    li.append(span(file.name, {fontWeight: 'bold'}));\n",
              "    li.append(span(\n",
              "        `(${file.type || 'n/a'}) - ${file.size} bytes, ` +\n",
              "        `last modified: ${\n",
              "            file.lastModifiedDate ? file.lastModifiedDate.toLocaleDateString() :\n",
              "                                    'n/a'} - `));\n",
              "    const percent = span('0% done');\n",
              "    li.appendChild(percent);\n",
              "\n",
              "    outputElement.appendChild(li);\n",
              "\n",
              "    const fileDataPromise = new Promise((resolve) => {\n",
              "      const reader = new FileReader();\n",
              "      reader.onload = (e) => {\n",
              "        resolve(e.target.result);\n",
              "      };\n",
              "      reader.readAsArrayBuffer(file);\n",
              "    });\n",
              "    // Wait for the data to be ready.\n",
              "    let fileData = yield {\n",
              "      promise: fileDataPromise,\n",
              "      response: {\n",
              "        action: 'continue',\n",
              "      }\n",
              "    };\n",
              "\n",
              "    // Use a chunked sending to avoid message size limits. See b/62115660.\n",
              "    let position = 0;\n",
              "    do {\n",
              "      const length = Math.min(fileData.byteLength - position, MAX_PAYLOAD_SIZE);\n",
              "      const chunk = new Uint8Array(fileData, position, length);\n",
              "      position += length;\n",
              "\n",
              "      const base64 = btoa(String.fromCharCode.apply(null, chunk));\n",
              "      yield {\n",
              "        response: {\n",
              "          action: 'append',\n",
              "          file: file.name,\n",
              "          data: base64,\n",
              "        },\n",
              "      };\n",
              "\n",
              "      let percentDone = fileData.byteLength === 0 ?\n",
              "          100 :\n",
              "          Math.round((position / fileData.byteLength) * 100);\n",
              "      percent.textContent = `${percentDone}% done`;\n",
              "\n",
              "    } while (position < fileData.byteLength);\n",
              "  }\n",
              "\n",
              "  // All done.\n",
              "  yield {\n",
              "    response: {\n",
              "      action: 'complete',\n",
              "    }\n",
              "  };\n",
              "}\n",
              "\n",
              "scope.google = scope.google || {};\n",
              "scope.google.colab = scope.google.colab || {};\n",
              "scope.google.colab._files = {\n",
              "  _uploadFiles,\n",
              "  _uploadFilesContinue,\n",
              "};\n",
              "})(self);\n",
              "</script> "
            ]
          },
          "metadata": {}
        },
        {
          "output_type": "stream",
          "name": "stdout",
          "text": [
            "Saving bios.json to bios.json\n"
          ]
        }
      ]
    },
    {
      "cell_type": "code",
      "source": [
        "#Storing Bios as a dict\n",
        "\n",
        "#get file content by its values\n",
        "biosData = next(iter(uploaded.values()))\n",
        "#convert json string into dict\n",
        "bios =  json.loads(biosData)\n",
        "#type(bios)\n",
        "#bios\n",
        "\n",
        "#for x in range(len(bios)):\n",
        "    #print(type(bios[x])) #<class 'dict'>\n",
        "    #print(bios[x])\n",
        "\n",
        "#print(bios[0].keys())"
      ],
      "metadata": {
        "id": "mg9pU4ISC7wy"
      },
      "execution_count": null,
      "outputs": []
    },
    {
      "cell_type": "code",
      "source": [
        "# install MongoDB on Colab\n",
        "!apt install mongodb\n",
        "# start the service\n",
        "!service mongodb start\n",
        "\n",
        "# import and start pymongo\n",
        "from pymongo import MongoClient\n",
        "client = MongoClient()\n",
        "client.list_database_names() # ['admin', 'local']"
      ],
      "metadata": {
        "colab": {
          "base_uri": "https://localhost:8080/"
        },
        "id": "90g6GEhapLlq",
        "outputId": "f183f3ca-055c-4d0b-d95e-59ce03b3178d"
      },
      "execution_count": null,
      "outputs": [
        {
          "output_type": "stream",
          "name": "stdout",
          "text": [
            "Reading package lists... Done\n",
            "Building dependency tree       \n",
            "Reading state information... Done\n",
            "The following package was automatically installed and is no longer required:\n",
            "  libnvidia-common-460\n",
            "Use 'apt autoremove' to remove it.\n",
            "The following additional packages will be installed:\n",
            "  libpcap0.8 libstemmer0d libyaml-cpp0.5v5 mongo-tools mongodb-clients\n",
            "  mongodb-server mongodb-server-core\n",
            "The following NEW packages will be installed:\n",
            "  libpcap0.8 libstemmer0d libyaml-cpp0.5v5 mongo-tools mongodb mongodb-clients\n",
            "  mongodb-server mongodb-server-core\n",
            "0 upgraded, 8 newly installed, 0 to remove and 20 not upgraded.\n",
            "Need to get 53.1 MB of archives.\n",
            "After this operation, 215 MB of additional disk space will be used.\n",
            "Get:1 http://archive.ubuntu.com/ubuntu bionic-updates/main amd64 libpcap0.8 amd64 1.8.1-6ubuntu1.18.04.2 [118 kB]\n",
            "Get:2 http://archive.ubuntu.com/ubuntu bionic/main amd64 libstemmer0d amd64 0+svn585-1build1 [62.5 kB]\n",
            "Get:3 http://archive.ubuntu.com/ubuntu bionic/universe amd64 libyaml-cpp0.5v5 amd64 0.5.2-4ubuntu1 [150 kB]\n",
            "Get:4 http://archive.ubuntu.com/ubuntu bionic/universe amd64 mongo-tools amd64 3.6.3-0ubuntu1 [12.3 MB]\n",
            "Get:5 http://archive.ubuntu.com/ubuntu bionic-updates/universe amd64 mongodb-clients amd64 1:3.6.3-0ubuntu1.4 [20.2 MB]\n",
            "Get:6 http://archive.ubuntu.com/ubuntu bionic-updates/universe amd64 mongodb-server-core amd64 1:3.6.3-0ubuntu1.4 [20.3 MB]\n",
            "Get:7 http://archive.ubuntu.com/ubuntu bionic-updates/universe amd64 mongodb-server all 1:3.6.3-0ubuntu1.4 [12.6 kB]\n",
            "Get:8 http://archive.ubuntu.com/ubuntu bionic-updates/universe amd64 mongodb amd64 1:3.6.3-0ubuntu1.4 [10.2 kB]\n",
            "Fetched 53.1 MB in 3s (19.8 MB/s)\n",
            "Selecting previously unselected package libpcap0.8:amd64.\n",
            "(Reading database ... 124016 files and directories currently installed.)\n",
            "Preparing to unpack .../0-libpcap0.8_1.8.1-6ubuntu1.18.04.2_amd64.deb ...\n",
            "Unpacking libpcap0.8:amd64 (1.8.1-6ubuntu1.18.04.2) ...\n",
            "Selecting previously unselected package libstemmer0d:amd64.\n",
            "Preparing to unpack .../1-libstemmer0d_0+svn585-1build1_amd64.deb ...\n",
            "Unpacking libstemmer0d:amd64 (0+svn585-1build1) ...\n",
            "Selecting previously unselected package libyaml-cpp0.5v5:amd64.\n",
            "Preparing to unpack .../2-libyaml-cpp0.5v5_0.5.2-4ubuntu1_amd64.deb ...\n",
            "Unpacking libyaml-cpp0.5v5:amd64 (0.5.2-4ubuntu1) ...\n",
            "Selecting previously unselected package mongo-tools.\n",
            "Preparing to unpack .../3-mongo-tools_3.6.3-0ubuntu1_amd64.deb ...\n",
            "Unpacking mongo-tools (3.6.3-0ubuntu1) ...\n",
            "Selecting previously unselected package mongodb-clients.\n",
            "Preparing to unpack .../4-mongodb-clients_1%3a3.6.3-0ubuntu1.4_amd64.deb ...\n",
            "Unpacking mongodb-clients (1:3.6.3-0ubuntu1.4) ...\n",
            "Selecting previously unselected package mongodb-server-core.\n",
            "Preparing to unpack .../5-mongodb-server-core_1%3a3.6.3-0ubuntu1.4_amd64.deb ...\n",
            "Unpacking mongodb-server-core (1:3.6.3-0ubuntu1.4) ...\n",
            "Selecting previously unselected package mongodb-server.\n",
            "Preparing to unpack .../6-mongodb-server_1%3a3.6.3-0ubuntu1.4_all.deb ...\n",
            "Unpacking mongodb-server (1:3.6.3-0ubuntu1.4) ...\n",
            "Selecting previously unselected package mongodb.\n",
            "Preparing to unpack .../7-mongodb_1%3a3.6.3-0ubuntu1.4_amd64.deb ...\n",
            "Unpacking mongodb (1:3.6.3-0ubuntu1.4) ...\n",
            "Setting up libstemmer0d:amd64 (0+svn585-1build1) ...\n",
            "Setting up libyaml-cpp0.5v5:amd64 (0.5.2-4ubuntu1) ...\n",
            "Setting up mongodb-server-core (1:3.6.3-0ubuntu1.4) ...\n",
            "Setting up libpcap0.8:amd64 (1.8.1-6ubuntu1.18.04.2) ...\n",
            "Setting up mongodb-clients (1:3.6.3-0ubuntu1.4) ...\n",
            "Setting up mongodb-server (1:3.6.3-0ubuntu1.4) ...\n",
            "invoke-rc.d: could not determine current runlevel\n",
            "invoke-rc.d: policy-rc.d denied execution of start.\n",
            "Created symlink /etc/systemd/system/multi-user.target.wants/mongodb.service → /lib/systemd/system/mongodb.service.\n",
            "Setting up mongo-tools (3.6.3-0ubuntu1) ...\n",
            "Setting up mongodb (1:3.6.3-0ubuntu1.4) ...\n",
            "Processing triggers for systemd (237-3ubuntu10.56) ...\n",
            "Processing triggers for man-db (2.8.3-2ubuntu0.1) ...\n",
            "Processing triggers for libc-bin (2.27-3ubuntu1.6) ...\n",
            " * Starting database mongodb\n",
            "   ...done.\n"
          ]
        },
        {
          "output_type": "execute_result",
          "data": {
            "text/plain": [
              "['admin', 'local']"
            ]
          },
          "metadata": {},
          "execution_count": 3
        }
      ]
    },
    {
      "cell_type": "code",
      "source": [
        "# create a database called \"mongoDB_ex\"; python variable db points to it.\n",
        "db=client['mongoDB_ex']\n"
      ],
      "metadata": {
        "id": "PfdMDMaXplig"
      },
      "execution_count": null,
      "outputs": []
    },
    {
      "cell_type": "markdown",
      "source": [
        "**Subtask:** Use that data to create a set of related tables in SQLite. \n",
        "\n",
        "The main table computer_scientists should contain id, last, first, birth, death. \n"
      ],
      "metadata": {
        "id": "z2ZIOVYAx3Mu"
      }
    },
    {
      "cell_type": "code",
      "source": [
        "# within \"mongoDB-ex\", create bios collection/table called \"computer_scientists\"\n",
        "computer_scientists = db['computer_scientists']\n",
        "db.computer_scientists.delete_many({})\n",
        "# contains id, last, first, birth, death. "
      ],
      "metadata": {
        "colab": {
          "base_uri": "https://localhost:8080/"
        },
        "id": "3zlal9xjsR2V",
        "outputId": "27afe9ce-a56b-47fd-8729-aa939ecfed7d"
      },
      "execution_count": null,
      "outputs": [
        {
          "output_type": "execute_result",
          "data": {
            "text/plain": [
              "<pymongo.results.DeleteResult at 0x7f55232ea400>"
            ]
          },
          "metadata": {},
          "execution_count": 5
        }
      ]
    },
    {
      "cell_type": "code",
      "source": [
        "#list of dire\n",
        "cs = [] \n",
        "\n",
        "csPerson = {}\n",
        "\n",
        "for x in range(len(bios)):\n",
        "    #print(type(bios[x])) #<class 'dict'>\n",
        "    #print(bios[x])\n",
        "    csPerson['_id'] = bios[x]['_id']\n",
        "    csPerson['first'] = bios[x]['name']['first']\n",
        "    csPerson['last'] = bios[x]['name']['last']\n",
        "\n",
        "\n",
        "\n",
        "    #print(bios[x]['name']['first'])\n",
        "    #print(bios[x]['name']['last'])\n",
        "    #print(bios[x]['birth'])\n",
        "    if ('birth' in bios[x].keys() ):\n",
        "\n",
        "      csPerson['birth'] = bios[x]['birth']\n",
        "      #print(bios[x]['birth'])\n",
        "    else:\n",
        "      #default\n",
        "      csPerson['birth'] = None\n",
        "      \n",
        "    \n",
        "    if ('death' in bios[x].keys() ):\n",
        "      csPerson['death'] = bios[x]['death']\n",
        "      #print(bios[x]['death'])\n",
        "    else:\n",
        "      csPerson['death'] = None\n",
        "    \n",
        "    #append to list of dir\n",
        "    cs.append(csPerson)\n",
        "    csPerson = {}\n",
        "  \n",
        "cs\n",
        " "
      ],
      "metadata": {
        "colab": {
          "base_uri": "https://localhost:8080/"
        },
        "id": "AB84jNWUErnU",
        "outputId": "1383a00c-e7f1-42c3-d03e-5b656d0d8e5e"
      },
      "execution_count": null,
      "outputs": [
        {
          "output_type": "execute_result",
          "data": {
            "text/plain": [
              "[{'_id': 1,\n",
              "  'first': 'John',\n",
              "  'last': 'Backus',\n",
              "  'birth': '1924-12-03',\n",
              "  'death': '2007-03-17'},\n",
              " {'_id': 2,\n",
              "  'first': 'John',\n",
              "  'last': 'McCarthy',\n",
              "  'birth': '1927-09-04',\n",
              "  'death': '2011-12-24'},\n",
              " {'_id': 3,\n",
              "  'first': 'Grace',\n",
              "  'last': 'Hopper',\n",
              "  'birth': '1906-12-09',\n",
              "  'death': '1992-01-01'},\n",
              " {'_id': 4,\n",
              "  'first': 'Kristen',\n",
              "  'last': 'Nygaard',\n",
              "  'birth': '1926-08-27',\n",
              "  'death': '2002-08-10'},\n",
              " {'_id': 5,\n",
              "  'first': 'Ole-Johan',\n",
              "  'last': 'Dahl',\n",
              "  'birth': '1931-10-12',\n",
              "  'death': '2002-06-29'},\n",
              " {'_id': 6,\n",
              "  'first': 'Guido',\n",
              "  'last': 'van Rossum',\n",
              "  'birth': '1956-01-31',\n",
              "  'death': None},\n",
              " {'_id': 7,\n",
              "  'first': 'Dennis',\n",
              "  'last': 'Ritchie',\n",
              "  'birth': '1941-09-09',\n",
              "  'death': '2011-10-12'},\n",
              " {'_id': 8,\n",
              "  'first': 'Yukihiro',\n",
              "  'last': 'Matsumoto',\n",
              "  'birth': '1965-04-14',\n",
              "  'death': None},\n",
              " {'_id': 9,\n",
              "  'first': 'James',\n",
              "  'last': 'Gosling',\n",
              "  'birth': '1955-05-19',\n",
              "  'death': None},\n",
              " {'_id': 10,\n",
              "  'first': 'Martin',\n",
              "  'last': 'Odersky',\n",
              "  'birth': None,\n",
              "  'death': None}]"
            ]
          },
          "metadata": {},
          "execution_count": 6
        }
      ]
    },
    {
      "cell_type": "code",
      "source": [
        "#insert list of dir into computer sci collections\n",
        "#_id is primary key by default\n",
        "db.computer_scientists.insert_many(cs)"
      ],
      "metadata": {
        "colab": {
          "base_uri": "https://localhost:8080/"
        },
        "id": "PgoSnuktUrMj",
        "outputId": "ec855b3c-e327-4b38-ba8f-18e974f05412"
      },
      "execution_count": null,
      "outputs": [
        {
          "output_type": "execute_result",
          "data": {
            "text/plain": [
              "<pymongo.results.InsertManyResult at 0x7f552160f970>"
            ]
          },
          "metadata": {},
          "execution_count": 7
        }
      ]
    },
    {
      "cell_type": "code",
      "source": [
        "#checking insert\n",
        "for i in db.computer_scientists.find({}):\n",
        "  print(i)"
      ],
      "metadata": {
        "colab": {
          "base_uri": "https://localhost:8080/"
        },
        "id": "aARwVQDN2_GO",
        "outputId": "ee175b68-78a9-4faa-f195-54637de9590d"
      },
      "execution_count": null,
      "outputs": [
        {
          "output_type": "stream",
          "name": "stdout",
          "text": [
            "{'_id': 1, 'first': 'John', 'last': 'Backus', 'birth': '1924-12-03', 'death': '2007-03-17'}\n",
            "{'_id': 2, 'first': 'John', 'last': 'McCarthy', 'birth': '1927-09-04', 'death': '2011-12-24'}\n",
            "{'_id': 3, 'first': 'Grace', 'last': 'Hopper', 'birth': '1906-12-09', 'death': '1992-01-01'}\n",
            "{'_id': 4, 'first': 'Kristen', 'last': 'Nygaard', 'birth': '1926-08-27', 'death': '2002-08-10'}\n",
            "{'_id': 5, 'first': 'Ole-Johan', 'last': 'Dahl', 'birth': '1931-10-12', 'death': '2002-06-29'}\n",
            "{'_id': 6, 'first': 'Guido', 'last': 'van Rossum', 'birth': '1956-01-31', 'death': None}\n",
            "{'_id': 7, 'first': 'Dennis', 'last': 'Ritchie', 'birth': '1941-09-09', 'death': '2011-10-12'}\n",
            "{'_id': 8, 'first': 'Yukihiro', 'last': 'Matsumoto', 'birth': '1965-04-14', 'death': None}\n",
            "{'_id': 9, 'first': 'James', 'last': 'Gosling', 'birth': '1955-05-19', 'death': None}\n",
            "{'_id': 10, 'first': 'Martin', 'last': 'Odersky', 'birth': None, 'death': None}\n"
          ]
        }
      ]
    },
    {
      "cell_type": "markdown",
      "source": [
        "**Subtask:**\n",
        "\n",
        "There should also be tables for contribs and awards. \n",
        "\n",
        "\n",
        "The computer_scientists table should be linked to the other two tables via one-to-many relationships, each of which should be represented in another table, for a total of five tables. \n",
        "\n",
        "\n"
      ],
      "metadata": {
        "id": "MH3u8IPM40FC"
      }
    },
    {
      "cell_type": "code",
      "source": [
        "#list of dire\n",
        "contribsL = [] \n",
        "\n",
        "contrib = {}\n",
        "\n",
        "for x in range(len(bios)):\n",
        "    #print(type(bios[x])) #<class 'dict'>\n",
        "    #print(bios[x])\n",
        "    contrib['_id'] = bios[x]['_id']\n",
        "    contrib['first'] = bios[x]['name']['first']\n",
        "    contrib['last'] = bios[x]['name']['last']\n",
        "\n",
        "\n",
        "    contrib['contribs'] = bios[x]['contribs']\n",
        "    contrib['numContribs'] = len(bios[x]['contribs'])\n",
        "    #print(len(bios[x]['contribs']))\n",
        "\n",
        "    contribsL.append(contrib)\n",
        "    contrib = {}\n",
        "#contribsL\n",
        " "
      ],
      "metadata": {
        "id": "6sei_dApVcmq"
      },
      "execution_count": null,
      "outputs": []
    },
    {
      "cell_type": "code",
      "source": [
        "# within \"mongoDB-x\", create a collection/table called \"contribs\"\n",
        "contribs = db['contribs']\n",
        "db.contribs.delete_many({})"
      ],
      "metadata": {
        "colab": {
          "base_uri": "https://localhost:8080/"
        },
        "id": "-BoLg_k6Vm1n",
        "outputId": "f70bfc89-3aec-496a-ac3b-49704d7b5e5d"
      },
      "execution_count": null,
      "outputs": [
        {
          "output_type": "execute_result",
          "data": {
            "text/plain": [
              "<pymongo.results.DeleteResult at 0x7f5521676b50>"
            ]
          },
          "metadata": {},
          "execution_count": 10
        }
      ]
    },
    {
      "cell_type": "code",
      "source": [
        "#insert list of dir into contribs collections\n",
        "db.contribs.insert_many(contribsL)"
      ],
      "metadata": {
        "colab": {
          "base_uri": "https://localhost:8080/"
        },
        "id": "XRsKM9-mXx15",
        "outputId": "444a0671-283e-4fe1-ea6f-14a49556d3c5"
      },
      "execution_count": null,
      "outputs": [
        {
          "output_type": "execute_result",
          "data": {
            "text/plain": [
              "<pymongo.results.InsertManyResult at 0x7f5520c99d00>"
            ]
          },
          "metadata": {},
          "execution_count": 11
        }
      ]
    },
    {
      "cell_type": "code",
      "source": [
        "#checking insert\n",
        "for i in db.contribs.find({}):\n",
        "  print(i)"
      ],
      "metadata": {
        "colab": {
          "base_uri": "https://localhost:8080/"
        },
        "id": "SL8zTZ0LX-GO",
        "outputId": "a8169925-24d3-426e-9969-dfccc28189e8"
      },
      "execution_count": null,
      "outputs": [
        {
          "output_type": "stream",
          "name": "stdout",
          "text": [
            "{'_id': 1, 'first': 'John', 'last': 'Backus', 'contribs': ['Fortran', 'ALGOL', 'Backus-Naur Form', 'FP'], 'numContribs': 4}\n",
            "{'_id': 2, 'first': 'John', 'last': 'McCarthy', 'contribs': ['Lisp', 'Artificial Intelligence', 'ALGOL'], 'numContribs': 3}\n",
            "{'_id': 3, 'first': 'Grace', 'last': 'Hopper', 'contribs': ['UNIVAC', 'compiler', 'FLOW-MATIC', 'COBOL'], 'numContribs': 4}\n",
            "{'_id': 4, 'first': 'Kristen', 'last': 'Nygaard', 'contribs': ['OOP', 'Simula'], 'numContribs': 2}\n",
            "{'_id': 5, 'first': 'Ole-Johan', 'last': 'Dahl', 'contribs': ['OOP', 'Simula'], 'numContribs': 2}\n",
            "{'_id': 6, 'first': 'Guido', 'last': 'van Rossum', 'contribs': ['Python'], 'numContribs': 1}\n",
            "{'_id': 7, 'first': 'Dennis', 'last': 'Ritchie', 'contribs': ['UNIX', 'C'], 'numContribs': 2}\n",
            "{'_id': 8, 'first': 'Yukihiro', 'last': 'Matsumoto', 'contribs': ['Ruby'], 'numContribs': 1}\n",
            "{'_id': 9, 'first': 'James', 'last': 'Gosling', 'contribs': ['Java'], 'numContribs': 1}\n",
            "{'_id': 10, 'first': 'Martin', 'last': 'Odersky', 'contribs': ['Scala'], 'numContribs': 1}\n"
          ]
        }
      ]
    },
    {
      "cell_type": "markdown",
      "source": [
        "**Subtask:**\n",
        "\n",
        "What is the average number of awards per scientist?\n"
      ],
      "metadata": {
        "id": "PDavGBPOVUNf"
      }
    },
    {
      "cell_type": "code",
      "source": [
        "#list of dire\n",
        "awardsList = [] \n",
        "\n",
        "award = {}\n",
        "\n",
        "for x in range(len(bios)):\n",
        "    #print(type(bios[x])) #<class 'dict'>\n",
        "    #print(bios[x])\n",
        "\n",
        "    award['_id'] = bios[x]['_id']\n",
        "    \n",
        "    award['first'] = bios[x]['name']['first']\n",
        "    award['last'] = bios[x]['name']['last']\n",
        "\n",
        "\n",
        "  \n",
        "    if ('awards' in bios[x].keys() ):\n",
        "\n",
        "      award['awards'] = bios[x]['awards']\n",
        "      award['numAwards'] = len(bios[x]['awards'])\n",
        "      \n",
        "      #print(bios[x]['awards'])\n",
        "      #print(len(bios[x]['awards']))\n",
        "    else:\n",
        "      #\n",
        "      award['awards'] = None\n",
        "      award['numAwards'] = 0\n",
        "    \n",
        "    awardsList.append(award)\n",
        "    award = {}\n",
        "  \n",
        "      \n",
        "#awardsList\n"
      ],
      "metadata": {
        "id": "w5dp-72MY3_k"
      },
      "execution_count": null,
      "outputs": []
    },
    {
      "cell_type": "code",
      "source": [
        "# within \"mongoDB-x\", create a collection/table called \"awards\"\n",
        "awards = db['awards']\n",
        "db.awards.delete_many({})"
      ],
      "metadata": {
        "colab": {
          "base_uri": "https://localhost:8080/"
        },
        "id": "e9agJrFA6A8-",
        "outputId": "b3020a84-d40a-4d70-8113-1a83fdd91c89"
      },
      "execution_count": null,
      "outputs": [
        {
          "output_type": "execute_result",
          "data": {
            "text/plain": [
              "<pymongo.results.DeleteResult at 0x7f55232eaa00>"
            ]
          },
          "metadata": {},
          "execution_count": 14
        }
      ]
    },
    {
      "cell_type": "code",
      "source": [
        "#insert list of dir into awards collections\n",
        "db.awards.insert_many(awardsList)"
      ],
      "metadata": {
        "id": "-c6D2WSTwxGy",
        "colab": {
          "base_uri": "https://localhost:8080/"
        },
        "outputId": "4d0a7670-3aaa-417a-e094-b29d41f48650"
      },
      "execution_count": null,
      "outputs": [
        {
          "output_type": "execute_result",
          "data": {
            "text/plain": [
              "<pymongo.results.InsertManyResult at 0x7f55232ea8e0>"
            ]
          },
          "metadata": {},
          "execution_count": 15
        }
      ]
    },
    {
      "cell_type": "code",
      "source": [
        "#checking insert\n",
        "for i in db.awards.find({}):\n",
        "  print(i)"
      ],
      "metadata": {
        "colab": {
          "base_uri": "https://localhost:8080/"
        },
        "id": "T3NAG-UIcBkO",
        "outputId": "7f31afaf-09f4-4a91-83bc-5401765af2b3"
      },
      "execution_count": null,
      "outputs": [
        {
          "output_type": "stream",
          "name": "stdout",
          "text": [
            "{'_id': 1, 'first': 'John', 'last': 'Backus', 'awards': [{'award': 'W.W. McDowell Award', 'year': 1967, 'by': 'IEEE Computer Society'}, {'award': 'National Medal of Science', 'year': 1975, 'by': 'National Science Foundation'}, {'award': 'Turing Award', 'year': 1977, 'by': 'ACM'}, {'award': 'Draper Prize', 'year': 1993, 'by': 'National Academy of Engineering'}], 'numAwards': 4}\n",
            "{'_id': 2, 'first': 'John', 'last': 'McCarthy', 'awards': [{'award': 'Turing Award', 'year': 1971, 'by': 'ACM'}, {'award': 'Kyoto Prize', 'year': 1988, 'by': 'Inamori Foundation'}, {'award': 'National Medal of Science', 'year': 1990, 'by': 'National Science Foundation'}], 'numAwards': 3}\n",
            "{'_id': 3, 'first': 'Grace', 'last': 'Hopper', 'awards': [{'award': 'Computer Sciences Man of the Year', 'year': 1969, 'by': 'Data Processing Management Association'}, {'award': 'Distinguished Fellow', 'year': 1973, 'by': ' British Computer Society'}, {'award': 'W. W. McDowell Award', 'year': 1976, 'by': 'IEEE Computer Society'}, {'award': 'National Medal of Technology', 'year': 1991, 'by': 'United States'}], 'numAwards': 4}\n",
            "{'_id': 4, 'first': 'Kristen', 'last': 'Nygaard', 'awards': [{'award': 'Rosing Prize', 'year': 1999, 'by': 'Norwegian Data Association'}, {'award': 'Turing Award', 'year': 2001, 'by': 'ACM'}, {'award': 'IEEE John von Neumann Medal', 'year': 2001, 'by': 'IEEE'}], 'numAwards': 3}\n",
            "{'_id': 5, 'first': 'Ole-Johan', 'last': 'Dahl', 'awards': [{'award': 'Rosing Prize', 'year': 1999, 'by': 'Norwegian Data Association'}, {'award': 'Turing Award', 'year': 2001, 'by': 'ACM'}, {'award': 'IEEE John von Neumann Medal', 'year': 2001, 'by': 'IEEE'}], 'numAwards': 3}\n",
            "{'_id': 6, 'first': 'Guido', 'last': 'van Rossum', 'awards': [{'award': 'Award for the Advancement of Free Software', 'year': 2001, 'by': 'Free Software Foundation'}, {'award': 'NLUUG Award', 'year': 2003, 'by': 'NLUUG'}], 'numAwards': 2}\n",
            "{'_id': 7, 'first': 'Dennis', 'last': 'Ritchie', 'awards': [{'award': 'Turing Award', 'year': 1983, 'by': 'ACM'}, {'award': 'National Medal of Technology', 'year': 1998, 'by': 'United States'}, {'award': 'Japan Prize', 'year': 2011, 'by': 'The Japan Prize Foundation'}], 'numAwards': 3}\n",
            "{'_id': 8, 'first': 'Yukihiro', 'last': 'Matsumoto', 'awards': [{'award': 'Award for the Advancement of Free Software', 'year': '2011', 'by': 'Free Software Foundation'}], 'numAwards': 1}\n",
            "{'_id': 9, 'first': 'James', 'last': 'Gosling', 'awards': [{'award': 'The Economist Innovation Award', 'year': 2002, 'by': 'The Economist'}, {'award': 'Officer of the Order of Canada', 'year': 2007, 'by': 'Canada'}], 'numAwards': 2}\n",
            "{'_id': 10, 'first': 'Martin', 'last': 'Odersky', 'awards': None, 'numAwards': 0}\n"
          ]
        }
      ]
    },
    {
      "cell_type": "code",
      "source": [
        "# two other tables: Tables tells us about the birth and death date of the computer scientist, \n",
        "# these tables only need the primary key of all other tables, 'id' but they include more info as well\n",
        "#_id field is reserved for primary key in mongodb\n",
        "\n",
        "#list of dire\n",
        "bdates = [] \n",
        "bdate = {}\n",
        "\n",
        "for x in range(len(bios)):\n",
        "    #print(type(bios[x])) #<class 'dict'>\n",
        "    #print(bios[x])\n",
        "    bdate['_id'] = bios[x]['_id']\n",
        "    bdate['first'] = bios[x]['name']['first']\n",
        "    bdate['last'] = bios[x]['name']['last']\n",
        "\n",
        "\n",
        "    if ('birth' in bios[x].keys() ):\n",
        "      bdate['birth'] = bios[x]['birth']\n",
        "      #print(bios[x]['birth'])\n",
        "    else:\n",
        "      #default\n",
        "      bdate['birth'] = None\n",
        "      \n",
        "    \n",
        "    #append\n",
        "    bdates.append(bdate)\n",
        "    bdate = {}\n",
        "\n",
        "bdates\n",
        "\n",
        "\n",
        " "
      ],
      "metadata": {
        "colab": {
          "base_uri": "https://localhost:8080/"
        },
        "id": "v5R0zCY7djvP",
        "outputId": "1efe065f-57e3-4053-e9c9-c437bcbc99aa"
      },
      "execution_count": null,
      "outputs": [
        {
          "output_type": "execute_result",
          "data": {
            "text/plain": [
              "[{'_id': 1, 'first': 'John', 'last': 'Backus', 'birth': '1924-12-03'},\n",
              " {'_id': 2, 'first': 'John', 'last': 'McCarthy', 'birth': '1927-09-04'},\n",
              " {'_id': 3, 'first': 'Grace', 'last': 'Hopper', 'birth': '1906-12-09'},\n",
              " {'_id': 4, 'first': 'Kristen', 'last': 'Nygaard', 'birth': '1926-08-27'},\n",
              " {'_id': 5, 'first': 'Ole-Johan', 'last': 'Dahl', 'birth': '1931-10-12'},\n",
              " {'_id': 6, 'first': 'Guido', 'last': 'van Rossum', 'birth': '1956-01-31'},\n",
              " {'_id': 7, 'first': 'Dennis', 'last': 'Ritchie', 'birth': '1941-09-09'},\n",
              " {'_id': 8, 'first': 'Yukihiro', 'last': 'Matsumoto', 'birth': '1965-04-14'},\n",
              " {'_id': 9, 'first': 'James', 'last': 'Gosling', 'birth': '1955-05-19'},\n",
              " {'_id': 10, 'first': 'Martin', 'last': 'Odersky', 'birth': None}]"
            ]
          },
          "metadata": {},
          "execution_count": 17
        }
      ]
    },
    {
      "cell_type": "code",
      "source": [
        "birthday = db['birthday']\n",
        "db.birthday.delete_many({})\n",
        "\n",
        "#insert list of dir into awards collections\n",
        "db.birthday.insert_many(bdates)\n",
        "\n",
        "#checking insert\n",
        "for i in db.birthday.find({}):\n",
        "  print(i)"
      ],
      "metadata": {
        "colab": {
          "base_uri": "https://localhost:8080/"
        },
        "id": "ZzEWgI3pexQV",
        "outputId": "5da0a188-9220-41cf-ca13-509b9a815ca3"
      },
      "execution_count": null,
      "outputs": [
        {
          "output_type": "stream",
          "name": "stdout",
          "text": [
            "{'_id': 1, 'first': 'John', 'last': 'Backus', 'birth': '1924-12-03'}\n",
            "{'_id': 2, 'first': 'John', 'last': 'McCarthy', 'birth': '1927-09-04'}\n",
            "{'_id': 3, 'first': 'Grace', 'last': 'Hopper', 'birth': '1906-12-09'}\n",
            "{'_id': 4, 'first': 'Kristen', 'last': 'Nygaard', 'birth': '1926-08-27'}\n",
            "{'_id': 5, 'first': 'Ole-Johan', 'last': 'Dahl', 'birth': '1931-10-12'}\n",
            "{'_id': 6, 'first': 'Guido', 'last': 'van Rossum', 'birth': '1956-01-31'}\n",
            "{'_id': 7, 'first': 'Dennis', 'last': 'Ritchie', 'birth': '1941-09-09'}\n",
            "{'_id': 8, 'first': 'Yukihiro', 'last': 'Matsumoto', 'birth': '1965-04-14'}\n",
            "{'_id': 9, 'first': 'James', 'last': 'Gosling', 'birth': '1955-05-19'}\n",
            "{'_id': 10, 'first': 'Martin', 'last': 'Odersky', 'birth': None}\n"
          ]
        }
      ]
    },
    {
      "cell_type": "code",
      "source": [
        "# Table tells us death date\n",
        "#list of dire\n",
        "dates = [] \n",
        "date = {}\n",
        "\n",
        "for x in range(len(bios)):\n",
        "    #print(type(bios[x])) #<class 'dict'>\n",
        "    #print(bios[x])\n",
        "    date['_id'] = bios[x]['_id']\n",
        "    date['first'] = bios[x]['name']['first']\n",
        "    date['last'] = bios[x]['name']['last']\n",
        "\n",
        "\n",
        "       \n",
        "    if ('death' in bios[x].keys() ):\n",
        "      date['death'] = bios[x]['death']\n",
        "      #print(bios[x]['death'])\n",
        "    else:\n",
        "      date['death'] = None\n",
        "    \n",
        "    #append\n",
        "    dates.append(date)\n",
        "    date = {}\n",
        "\n",
        "dates\n",
        "\n",
        "\n",
        " "
      ],
      "metadata": {
        "colab": {
          "base_uri": "https://localhost:8080/"
        },
        "id": "I1YivGLrfige",
        "outputId": "a87ca635-ab47-44fa-b6ba-ab2f3321a382"
      },
      "execution_count": null,
      "outputs": [
        {
          "output_type": "execute_result",
          "data": {
            "text/plain": [
              "[{'_id': 1, 'first': 'John', 'last': 'Backus', 'death': '2007-03-17'},\n",
              " {'_id': 2, 'first': 'John', 'last': 'McCarthy', 'death': '2011-12-24'},\n",
              " {'_id': 3, 'first': 'Grace', 'last': 'Hopper', 'death': '1992-01-01'},\n",
              " {'_id': 4, 'first': 'Kristen', 'last': 'Nygaard', 'death': '2002-08-10'},\n",
              " {'_id': 5, 'first': 'Ole-Johan', 'last': 'Dahl', 'death': '2002-06-29'},\n",
              " {'_id': 6, 'first': 'Guido', 'last': 'van Rossum', 'death': None},\n",
              " {'_id': 7, 'first': 'Dennis', 'last': 'Ritchie', 'death': '2011-10-12'},\n",
              " {'_id': 8, 'first': 'Yukihiro', 'last': 'Matsumoto', 'death': None},\n",
              " {'_id': 9, 'first': 'James', 'last': 'Gosling', 'death': None},\n",
              " {'_id': 10, 'first': 'Martin', 'last': 'Odersky', 'death': None}]"
            ]
          },
          "metadata": {},
          "execution_count": 19
        }
      ]
    },
    {
      "cell_type": "code",
      "source": [
        "deathday = db['deathday']\n",
        "db.deathday.delete_many({})\n",
        "\n",
        "#insert list of dir into awards collections\n",
        "db.deathday.insert_many(dates)\n",
        "\n",
        "#checking insert\n",
        "for i in db.deathday.find({}):\n",
        "  print(i)"
      ],
      "metadata": {
        "colab": {
          "base_uri": "https://localhost:8080/"
        },
        "id": "DlL5496ZfynP",
        "outputId": "645e1b01-3a00-4b99-b861-2abe11db2c57"
      },
      "execution_count": null,
      "outputs": [
        {
          "output_type": "stream",
          "name": "stdout",
          "text": [
            "{'_id': 1, 'first': 'John', 'last': 'Backus', 'death': '2007-03-17'}\n",
            "{'_id': 2, 'first': 'John', 'last': 'McCarthy', 'death': '2011-12-24'}\n",
            "{'_id': 3, 'first': 'Grace', 'last': 'Hopper', 'death': '1992-01-01'}\n",
            "{'_id': 4, 'first': 'Kristen', 'last': 'Nygaard', 'death': '2002-08-10'}\n",
            "{'_id': 5, 'first': 'Ole-Johan', 'last': 'Dahl', 'death': '2002-06-29'}\n",
            "{'_id': 6, 'first': 'Guido', 'last': 'van Rossum', 'death': None}\n",
            "{'_id': 7, 'first': 'Dennis', 'last': 'Ritchie', 'death': '2011-10-12'}\n",
            "{'_id': 8, 'first': 'Yukihiro', 'last': 'Matsumoto', 'death': None}\n",
            "{'_id': 9, 'first': 'James', 'last': 'Gosling', 'death': None}\n",
            "{'_id': 10, 'first': 'Martin', 'last': 'Odersky', 'death': None}\n"
          ]
        }
      ]
    },
    {
      "cell_type": "markdown",
      "source": [
        "**End Of Task 1:** What is the average number of awards per scientist?"
      ],
      "metadata": {
        "id": "yjCSVm7pwY7u"
      }
    },
    {
      "cell_type": "code",
      "source": [
        "avgAwards = 0\n",
        "csCount = 0 #known to be 10, but will count\n",
        "for i in db.awards.find({}):\n",
        "  avgAwards += i['numAwards']\n",
        "  csCount += 1\n",
        "\n",
        "avgAwards = round(avgAwards/csCount, 2)\n",
        "\n",
        "#avgAwards #the average number of awards per scientist is 2.5"
      ],
      "metadata": {
        "id": "srwT5_fEhCEM"
      },
      "execution_count": null,
      "outputs": []
    },
    {
      "cell_type": "markdown",
      "source": [
        "**---------The remaining questions are based on the ReadyChef database (readychef.db)---------**"
      ],
      "metadata": {
        "id": "XXy8j4QNnM_l"
      }
    },
    {
      "cell_type": "code",
      "source": [
        "from google.colab import drive\n",
        "drive.mount('/content/gdrive') #to import readchef.db"
      ],
      "metadata": {
        "colab": {
          "base_uri": "https://localhost:8080/"
        },
        "id": "9lfZtu1WrhDV",
        "outputId": "b2cf3a31-56cc-406d-9a2f-29d8188b81e1"
      },
      "execution_count": null,
      "outputs": [
        {
          "output_type": "stream",
          "name": "stdout",
          "text": [
            "Mounted at /content/gdrive\n"
          ]
        }
      ]
    },
    {
      "cell_type": "code",
      "source": [
        "\n",
        "from sqlalchemy import create_engine\n",
        "import pandas as pd\n",
        "sqlconnect = create_engine(\"sqlite:////content/gdrive/MyDrive/readychef.db\")\n",
        "tables = sqlconnect.execute('''select name from sqlite_master where type = 'table' ''')\n",
        "#for x in tables:\n",
        "  #print(x)\n",
        "\n",
        "def execSQL(conn,query):\n",
        "  conn.execute(query) # execute an SQL query\n",
        "  conn.commit() # \"commit\" that query in order to make its action permanent\n",
        "\n",
        "def allrowsSelect(conn,query):\n",
        "  cursor = conn.execute(query)\n",
        "  C = 0\n",
        "  for row in cursor:\n",
        "   print(row)\n",
        "   C = C + 1\n",
        "  print(C)\n",
        "#Using the invoices table, find out the BillingCity in the United Kingdom that has the second most invoices\n",
        "#invoice id, customer id\n",
        "#allrowsSelect(sqlconnect, \"SELECT *, COUNT(BillingCity) FROM 'invoices' WHERE BillingCountry = 'United Kingdom' GROUP BY BillingCity\")\n",
        "# Edinburgh, UK that has the second most invoices: 7 invoices\n"
      ],
      "metadata": {
        "id": "A8uX5Qk4m5Zg"
      },
      "execution_count": null,
      "outputs": []
    },
    {
      "cell_type": "markdown",
      "source": [
        "**Task 2:** What is the user id of the user that visited the site most frequently?"
      ],
      "metadata": {
        "id": "v3UgBjRtjPOM"
      }
    },
    {
      "cell_type": "code",
      "source": [
        "import sqlite3\n",
        "conn_sql= sqlite3.connect(\"/content/gdrive/MyDrive/readychef.db\")\n",
        "#for x in tables:\n",
        "  #print(x)\n",
        "\n"
      ],
      "metadata": {
        "id": "rhm0Ct_bscmZ"
      },
      "execution_count": null,
      "outputs": []
    },
    {
      "cell_type": "code",
      "source": [
        "#visits = pd.read_sql_query(\"SELECT * FROM 'visits'\", conn_sql)\n",
        "numvisits = pd.read_sql_query(\"SELECT userid, COUNT(dt) as countVisits FROM visits GROUP BY userid ORDER BY countVisits DESC\", conn_sql)\n",
        "\n",
        "numvisits['userid'][0] #userid 50 visited the site most frequently\n",
        "\n",
        "\n",
        "#SELECT userid, COUNT(dt) as countVisits FROM visits GROUP BY userid ORDER BY countVisits DESC\n",
        "#double check: SELECT * FROM visits WHERE userid = 50"
      ],
      "metadata": {
        "colab": {
          "base_uri": "https://localhost:8080/"
        },
        "id": "7aiHE09ht4n4",
        "outputId": "3485ad9c-8d35-43ed-82a3-3c3066387390"
      },
      "execution_count": null,
      "outputs": [
        {
          "output_type": "execute_result",
          "data": {
            "text/plain": [
              "50"
            ]
          },
          "metadata": {},
          "execution_count": 25
        }
      ]
    },
    {
      "cell_type": "markdown",
      "source": [
        "**Task 3:** What is the average cost of Chinese meals in the meals table, rounded to two decimal places?\n"
      ],
      "metadata": {
        "id": "gR90znUywZCe"
      }
    },
    {
      "cell_type": "code",
      "source": [
        "meals = pd.read_sql_query(\"SELECT * FROM 'meals'\", conn_sql)\n",
        "mealAvgPrices = pd.read_sql_query(\"SELECT type, ROUND(AVG(price), 2) AS avgCost FROM meals GROUP BY type\", conn_sql)\n",
        "cavg = pd.read_sql_query(\"SELECT type, ROUND(AVG(price), 2) AS avgCost FROM meals WHERE type = 'chinese' \", conn_sql)\n",
        "cavg['avgCost'][0] # the average cost of Chinese meals is $9.52\n",
        "\n",
        "#SELECT type, ROUND(AVG(price), 2) AS avgCost FROM meals WHERE type = 'chinese' \n",
        "#SELECT type, ROUND(AVG(price), 2) AS avgCost FROM meals GROUP BY type"
      ],
      "metadata": {
        "colab": {
          "base_uri": "https://localhost:8080/"
        },
        "id": "ygZ5ghWL5fcd",
        "outputId": "fdb5b651-e9ce-41c3-8de1-ffbf5a68ca6d"
      },
      "execution_count": null,
      "outputs": [
        {
          "output_type": "execute_result",
          "data": {
            "text/plain": [
              "9.52"
            ]
          },
          "metadata": {},
          "execution_count": 26
        }
      ]
    },
    {
      "cell_type": "markdown",
      "source": [
        "**Task 4:** What user bought the most meals?\n"
      ],
      "metadata": {
        "id": "8To7kN0ewZJA"
      }
    },
    {
      "cell_type": "code",
      "source": [
        "events= meals = pd.read_sql_query(\"SELECT * FROM 'events'\", conn_sql)\n",
        "\n",
        "mealsBought = pd.read_sql_query(\"SELECT userid, COUNT(event) AS mealsBought FROM events WHERE event = 'bought' GROUP BY userid ORDER BY mealsBought DESC\", conn_sql)\n",
        "#mealsBought\n",
        "#mealsBought['userid'][0]\n",
        "#mealsBought['mealsBought'][0]\n",
        "\n",
        "print(\"userid\", mealsBought['userid'][0], \"bought the most meals. In total, they bought\", mealsBought['mealsBought'][0], \"meals\")\n",
        "\n",
        "#double checking\n",
        "#t = events[events['event']=='bought']\n",
        "#len(t[t['userid']==129]) \n",
        "\n",
        "\n",
        "#SELECT userid, COUNT(event) AS mealsBought FROM events WHERE event = 'bought' GROUP BY userid ORDER BY mealsBought DESC"
      ],
      "metadata": {
        "colab": {
          "base_uri": "https://localhost:8080/"
        },
        "id": "F1VQ8Np-7ODK",
        "outputId": "d47e4cdc-fee6-4bd9-a10f-b3fa67bc5148"
      },
      "execution_count": null,
      "outputs": [
        {
          "output_type": "stream",
          "name": "stdout",
          "text": [
            "userid 129 bought the most meals. In total, they bought 101 meals\n"
          ]
        }
      ]
    },
    {
      "cell_type": "markdown",
      "source": [
        "**Task 5:** Quite a few users are tied for the most other users referred. For these top referrers, what is the number of other users referred?\n"
      ],
      "metadata": {
        "id": "j2feUkb7wZQI"
      }
    },
    {
      "cell_type": "code",
      "source": [
        "ref = pd.read_sql_query(\"SELECT * FROM 'referrals'\", conn_sql)\n",
        "\n",
        "#2157 rows × 2 columns\n",
        "\n",
        "refCount = pd.read_sql_query(\"SELECT referred_by, COUNT(referred) AS refCount FROM referrals GROUP BY referred_by ORDER BY refCount DESC\", conn_sql)\n",
        "\n",
        "#ref\n",
        "#refCount['refCount'][0]\n",
        "\n",
        "print(\"Top referrers referred\", refCount['refCount'][0], \"other users\" )"
      ],
      "metadata": {
        "id": "CHMWeYaiBPNX",
        "colab": {
          "base_uri": "https://localhost:8080/"
        },
        "outputId": "4c80fb3b-8374-467e-e129-aa8eb3fa73fe"
      },
      "execution_count": null,
      "outputs": [
        {
          "output_type": "stream",
          "name": "stdout",
          "text": [
            "Top referrers referred 6 other users\n"
          ]
        }
      ]
    },
    {
      "cell_type": "markdown",
      "source": [
        "**Task 6:**  What type of meal was most frequently shared by the user who bought the most meals?\n"
      ],
      "metadata": {
        "id": "qz2rQ4XJwZWo"
      }
    },
    {
      "cell_type": "code",
      "source": [
        "\n",
        "q = '''\n",
        "\n",
        "SELECT type FROM meals WHERE meal_id =\n",
        "(\n",
        "\n",
        "SELECT meal_id FROM \n",
        "(\n",
        "\n",
        "SELECT meal_id, COUNT(meal_id) AS mealCount FROM\n",
        "(SELECT  event, userid, meal_id FROM events WHERE userid = 129 AND event = 'share')\n",
        "GROUP BY meal_id ORDER BY mealCount DESC LIMIT 1\n",
        ")\n",
        "\n",
        ")\n",
        "\n",
        "'''\n",
        "\n",
        "mostSharedType = pd.read_sql_query(q, conn_sql)\n",
        "mostSharedType['type'][0]\n",
        "print(mostSharedType['type'][0], \"was the type of meal that was most frequently shared by the user who bought the most meals\")"
      ],
      "metadata": {
        "id": "t8YuU0rODR3k",
        "colab": {
          "base_uri": "https://localhost:8080/"
        },
        "outputId": "04c5ff09-e45c-4da4-c12e-470fed08444a"
      },
      "execution_count": null,
      "outputs": [
        {
          "output_type": "stream",
          "name": "stdout",
          "text": [
            "japanese was the type of meal that was most frequently shared by the user who bought the most meals\n"
          ]
        }
      ]
    },
    {
      "cell_type": "markdown",
      "source": [
        "**Task 7:** Using a window function, assign a quintile from 1 to 5 to each meal based on the\n",
        "price with quintile 1 having the highest price and quintile 5 the lowest. What is the lowest price in quintile 3?\n"
      ],
      "metadata": {
        "id": "6I_f94lBwZeR"
      }
    },
    {
      "cell_type": "code",
      "source": [
        "query_for_task7 = '''\n",
        "SELECT MIN(price)\n",
        "FROM (\n",
        "  SELECT meal_id, type, date, price,\n",
        "         NTILE(5) OVER(ORDER BY price DESC) AS quintile\n",
        "  FROM meals\n",
        ") AS t\n",
        "WHERE quintile = 3\n",
        "\n",
        "'''\n",
        "\n",
        "#10 is the lowest price in quintile 3"
      ],
      "metadata": {
        "id": "JAyD3jq_ZRsO"
      },
      "execution_count": null,
      "outputs": []
    },
    {
      "cell_type": "markdown",
      "source": [
        "**Task 8:** Using a window function, create a view that has the following columns: userid, current_order_date, current_meal_type, and next_meal_type. This should be based on partitioning by user and ordering by date for the meals each user bought. For each date that the user bought a meal, the next_meal_type should contain the type of the next meal that they bought, chronologically. Query this view to find the types of the first three meals bought by user 2.\n",
        "\n"
      ],
      "metadata": {
        "id": "x5zH-qfBNIbh"
      }
    },
    {
      "cell_type": "markdown",
      "source": [
        "\n",
        "![Screen Shot 2022-12-15 at 12.13.31 AM.png](data:image/png;base64,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)\n",
        "\n"
      ],
      "metadata": {
        "id": "j7-ViywVwZkA"
      }
    },
    {
      "cell_type": "code",
      "source": [
        "t8 = '''\n",
        "CREATE VIEW taskView AS\n",
        "SELECT userid, events.dt AS current_order_date, type AS current_meal_type,\n",
        "       LAG(type) OVER(PARTITION BY userid ORDER BY date(events.dt)) AS next_meal_type\n",
        "FROM meals\n",
        "INNER JOIN events\n",
        "ON meals.meal_id = events.meal_id\n",
        "WHERE events.event = 'bought'\n",
        "'''\n",
        "t8Query = '''\n",
        "SELECT current_order_date, current_meal_type\n",
        "FROM taskView\n",
        "WHERE userid = 2\n",
        "ORDER BY current_order_date\n",
        "LIMIT 3\n",
        "\n",
        "'''\n",
        "\n",
        "#chinese, french, italian"
      ],
      "metadata": {
        "id": "kw9BYOHRJQI8"
      },
      "execution_count": null,
      "outputs": []
    },
    {
      "cell_type": "markdown",
      "source": [
        "**Task 9:** Find the average price for each type of meal using a window function and add it to the table without reducing the number of meals. Then find the difference in price between each meal and the average of that type. What is this value for the cheapest Italian meal (that is, how much less is it than the average)?\n",
        "\n",
        "meals contains the meal_ids, 'type', and 'price'\n"
      ],
      "metadata": {
        "id": "LT70Cj0EwZph"
      }
    },
    {
      "cell_type": "code",
      "source": [
        "tq1 = '''\n",
        "\n",
        "CREATE VIEW taskNine AS\n",
        "SELECT meal_id, type, price,\n",
        "    AVG(price) OVER (PARTITION BY type) AS avgPrice,\n",
        "    AVG(price) OVER (PARTITION BY type) - price AS diff\n",
        "FROM meals\n",
        "\n",
        "'''\n",
        "#the cheapest Italian meal is meal_id 11, price = $7, where the avgPrice for type italian is $11.29( that is, it is $4.29 less than the average)\n",
        "tq2 = '''\n",
        "SELECT meal_id, type, price, avgPrice, diff\n",
        "FROM taskNine\n",
        "WHERE type =  'italian'\n",
        "ORDER BY diff DESC\n",
        "\n",
        "'''"
      ],
      "metadata": {
        "id": "wnwNEgXcUGVQ"
      },
      "execution_count": null,
      "outputs": []
    }
  ]
}